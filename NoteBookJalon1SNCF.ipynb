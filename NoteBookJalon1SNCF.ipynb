{
 "cells": [
  {
   "cell_type": "code",
   "execution_count": 1,
   "id": "780325da",
   "metadata": {
    "scrolled": true
   },
   "outputs": [],
   "source": [
    "from gurobipy import Model, GRB\n",
    "import pandas as pd\n",
    "from datetime import datetime"
   ]
  },
  {
   "cell_type": "code",
   "execution_count": 2,
   "id": "1601b7f7",
   "metadata": {},
   "outputs": [
    {
     "name": "stdout",
     "output_type": "stream",
     "text": [
      "Set parameter Username\n",
      "Set parameter LicenseID to value 2617727\n",
      "Academic license - for non-commercial use only - expires 2026-02-03\n"
     ]
    }
   ],
   "source": [
    "# Définir un modèle Gurobi\n",
    "model = Model(\"planification_taches_machines\")"
   ]
  },
  {
   "cell_type": "code",
   "execution_count": 3,
   "id": "97ab08a5",
   "metadata": {},
   "outputs": [],
   "source": [
    "# Charger les données\n",
    "chantiers_df = pd.read_excel('/Users/thomasdesforges/Desktop/CS/2A/ST7/Projet ST7/fret_sncf/instance_WPY_realiste_jalon1.xlsx', sheet_name='Chantiers')\n",
    "machines_df = pd.read_excel('/Users/thomasdesforges/Desktop/CS/2A/ST7/Projet ST7/fret_sncf/instance_WPY_realiste_jalon1.xlsx', sheet_name='Machines')\n",
    "sillons_arrivee_df = pd.read_excel('/Users/thomasdesforges/Desktop/CS/2A/ST7/Projet ST7/fret_sncf/instance_WPY_realiste_jalon1.xlsx', sheet_name='Sillons arrivee')\n",
    "sillons_depart_df = pd.read_excel('/Users/thomasdesforges/Desktop/CS/2A/ST7/Projet ST7/fret_sncf/instance_WPY_realiste_jalon1.xlsx', sheet_name='Sillons depart')\n",
    "correspondances_df = pd.read_excel('/Users/thomasdesforges/Desktop/CS/2A/ST7/Projet ST7/fret_sncf/instance_WPY_realiste_jalon1.xlsx', sheet_name='Correspondances')\n",
    "taches_humaines_df = pd.read_excel('/Users/thomasdesforges/Desktop/CS/2A/ST7/Projet ST7/fret_sncf/instance_WPY_realiste_jalon1.xlsx', sheet_name='Taches humaines')\n",
    "\n",
    "# Variables de décision : x_m,h,t = 1 si la machine m travaille sur le wagon w à l'heure h, 0 sinon\n",
    "# Listes des machines, heures et wagons\n",
    "machines = machines_df['Machine'].tolist()\n",
    "trains = sillons_arrivee_df['n°TRAIN'].tolist()\n",
    "hours = range(24 * 60)  # De 0 à 1440 minutes (pour chaque minute de la journée)\n",
    "\n"
   ]
  },
  {
   "cell_type": "code",
   "execution_count": 4,
   "id": "d138e093",
   "metadata": {},
   "outputs": [
    {
     "name": "stdout",
     "output_type": "stream",
     "text": [
      "Variables de décision créées : 164160\n"
     ]
    }
   ],
   "source": [
    "# Créer des variables de décision pour chaque machine, heure et wagon\n",
    "x = {}\n",
    "for m in machines:\n",
    "    for h in hours:\n",
    "        for t in trains:\n",
    "            x[(m, h, t)] = model.addVar(vtype=GRB.BINARY, name=f\"x_{m}_{h}_{t}\")\n",
    "\n",
    "# Affichage des variables créées (facultatif pour vérification)\n",
    "print(f\"Variables de décision créées : {len(x)}\")"
   ]
  },
  {
   "cell_type": "code",
   "execution_count": 5,
   "id": "0e3740ba",
   "metadata": {},
   "outputs": [],
   "source": [
    "# Fonction pour convertir une heure au format \"HH:MM\" en minutes depuis minuit\n",
    "def time_to_minutes(time_str):\n",
    "    time_part = time_str.split(',')[1] if ',' in time_str else time_str\n",
    "    time_part = time_part.strip('()')  # Enlever les parenthèses\n",
    "    time_obj = datetime.strptime(time_part, \"%H:%M\")\n",
    "    return time_obj.hour * 60 + time_obj.minute"
   ]
  },
  {
   "cell_type": "code",
   "execution_count": 6,
   "id": "3d459540",
   "metadata": {},
   "outputs": [],
   "source": [
    "# Contrainte 1: Chaque tâche doit être attribuée à une machine et à un wagon à un créneau horaire spécifique\n",
    "for _, row in machines_df.iterrows():\n",
    "    task_type = row['Type de tache']\n",
    "    unavailable_times = row['Indisponibilites']\n",
    "    \n",
    "    if unavailable_times != 0:\n",
    "        periods = unavailable_times.strip('()').split(';')\n",
    "        for period in periods:\n",
    "            day_of_week, time_str = period.split(',')\n",
    "            start_time = time_to_minutes(time_str.split('-')[0])\n",
    "            end_time = time_to_minutes(time_str.split('-')[1])\n",
    "            \n",
    "            # Contrainte de disponibilité de la machine pendant les périodes d'indisponibilité\n",
    "            for h in range(start_time, end_time):\n",
    "                for t in trains:\n",
    "                    model.addConstr(sum(x[(m, h, t)] for m in machines if m == task_type) == 0)\n",
    "\n"
   ]
  },
  {
   "cell_type": "markdown",
   "id": "86090344",
   "metadata": {},
   "source": [
    "* Contrainte 2: Chaque wagon doit avoir une machine affectée à un moment donné\n",
    "$$\n",
    "    \\quad \\forall h, \\quad \\forall t, \\sum_{m} x_{m,h,t} \\leq 1, \n",
    "$$\n"
   ]
  },
  {
   "cell_type": "code",
   "execution_count": 7,
   "id": "8ac07a66",
   "metadata": {},
   "outputs": [],
   "source": [
    "# Contrainte 2: Chaque wagon doit avoir une machine affectée à un moment donné\n",
    "for h in hours:\n",
    "    for t in trains:\n",
    "        # La machine ne peut travailler que sur un wagon à un moment donné\n",
    "        model.addConstr(sum(x[(m, h, t)] for m in machines) <= 1)"
   ]
  },
  {
   "cell_type": "markdown",
   "id": "c559c169",
   "metadata": {},
   "source": [
    "* Contrainte 3: Capacité des chantiers (respecter le nombre de voies disponibles)\n",
    "$$\n",
    "\\quad \\forall m, \\quad \\forall t, \\sum_{m} \\sum_{t} x_{m, h, t} \\leq nb_{voies disponibles}\n",
    "$$"
   ]
  },
  {
   "cell_type": "code",
   "execution_count": 15,
   "id": "6d3acea2",
   "metadata": {},
   "outputs": [],
   "source": [
    "# Contrainte 3: Capacité des chantiers (respecter le nombre de voies disponibles)\n",
    "# Modifier cette contrainte pour que le wagon soit attribué à un chantier spécifique\n",
    "for _, row in chantiers_df.iterrows():\n",
    "    chantier = row['Chantier']\n",
    "    voies_disponibles = row['Nombre de voies']\n",
    "    \n",
    "    # Filtrer les wagons associés à ce chantier\n",
    "    wagons_in_chantier = [t for t in trains if t == chantier]  # Exemple de correspondance, à ajuster selon vos données\n",
    "\n",
    "    # Calculer le nombre de wagons occupés sur chaque chantier à un moment donné\n",
    "    for h in hours:\n",
    "        model.addConstr(sum(x[(m, h, t)] for m in machines for t in wagons_in_chantier) <= voies_disponibles)"
   ]
  },
  {
   "cell_type": "markdown",
   "id": "621331bf",
   "metadata": {},
   "source": [
    "* Contrainte 4: Délai de 60 minutes entre arrivée et débranchement\n",
    "$$\n",
    "\\quad \\forall h \\in \\left[0,59 \\right]  x_{DEB, arrival\\_time + h, t} = 0\n",
    "$$"
   ]
  },
  {
   "cell_type": "code",
   "execution_count": 20,
   "id": "123843b8",
   "metadata": {},
   "outputs": [],
   "source": [
    "# Contrainte 4: Parallélisation des tâches humaines et machines (délai de 60 minutes entre arrivée et débranchement)\n",
    "for _, row in sillons_arrivee_df.iterrows():\n",
    "    train = row['n°TRAIN']\n",
    "    arrival_time = time_to_minutes(row['HARR'])    \n",
    "    # Permettre à n'importe quelle machine de travailler sur le wagon, pas seulement \"DEB\"\n",
    "    for h in range (0, 60):\n",
    "        model.addConstr(x[('DEB', (arrival_time + h)%1439, train)]  == 0)\n",
    "                  \n"
   ]
  },
  {
   "cell_type": "markdown",
   "id": "2e04000e",
   "metadata": {},
   "source": [
    "* Contrainte 5: Délai de 150 minutes entre formation et dégarage\n",
    "$$\n",
    "\\quad \\forall h \\in \\left[1,150 \\right]  x_{FOR, time\\_DEG - h, t} = 0\n",
    "$$"
   ]
  },
  {
   "cell_type": "code",
   "execution_count": 10,
   "id": "ddd73374",
   "metadata": {},
   "outputs": [],
   "source": [
    "# Contrainte 5: Parallélisation des tâches humaines et machines (délai de 150 minutes entre formation et dégarage)\n",
    "for _, row in sillons_departure_df.iterrows():\n",
    "    train = row['n°TRAIN']\n",
    "    departure_time = time_to_minutes(row['HDEP'])\n",
    "    # Permettre à n'importe quelle machine de travailler sur le wagon, pas seulement \"DEB\"\n",
    "    for h in range (1,150):\n",
    "        model.addConstr(x[('FOR', time_DEG_start - h, train)]  == 0)\n",
    "          \n"
   ]
  },
  {
   "cell_type": "markdown",
   "id": "db5b2f4c",
   "metadata": {},
   "source": [
    "* Contrainte 6: Délai de 20 minutes entre dégarage et départ\n",
    "$$\n",
    "\\quad \\forall h \\in \\left[1,20 \\right]  x_{DEG, departure\\_time - h, t} = 0\n",
    "$$"
   ]
  },
  {
   "cell_type": "code",
   "execution_count": 14,
   "id": "0f8d4139",
   "metadata": {},
   "outputs": [
    {
     "ename": "TypeError",
     "evalue": "'bool' object is not iterable",
     "output_type": "error",
     "traceback": [
      "\u001b[0;31m---------------------------------------------------------------------------\u001b[0m",
      "\u001b[0;31mTypeError\u001b[0m                                 Traceback (most recent call last)",
      "\u001b[0;32m<ipython-input-14-935f99d27813>\u001b[0m in \u001b[0;36m<module>\u001b[0;34m\u001b[0m\n\u001b[1;32m      4\u001b[0m     \u001b[0mdeparture_time\u001b[0m \u001b[0;34m=\u001b[0m \u001b[0mtime_to_minutes\u001b[0m\u001b[0;34m(\u001b[0m\u001b[0mrow\u001b[0m\u001b[0;34m[\u001b[0m\u001b[0;34m'HDEP'\u001b[0m\u001b[0;34m]\u001b[0m\u001b[0;34m)\u001b[0m\u001b[0;34m\u001b[0m\u001b[0;34m\u001b[0m\u001b[0m\n\u001b[1;32m      5\u001b[0m     \u001b[0;31m# Permettre à n'importe quelle machine de travailler sur le wagon, pas seulement \"DEB\"\u001b[0m\u001b[0;34m\u001b[0m\u001b[0;34m\u001b[0m\u001b[0;34m\u001b[0m\u001b[0m\n\u001b[0;32m----> 6\u001b[0;31m     \u001b[0mmodel\u001b[0m\u001b[0;34m.\u001b[0m\u001b[0maddConstr\u001b[0m\u001b[0;34m(\u001b[0m\u001b[0mx\u001b[0m\u001b[0;34m[\u001b[0m\u001b[0;34m(\u001b[0m\u001b[0;34m'DEG'\u001b[0m\u001b[0;34m,\u001b[0m \u001b[0mdeparture_time\u001b[0m \u001b[0;34m-\u001b[0m \u001b[0mh\u001b[0m\u001b[0;34m,\u001b[0m \u001b[0mtrain\u001b[0m\u001b[0;34m)\u001b[0m\u001b[0;34m]\u001b[0m \u001b[0;32mfor\u001b[0m \u001b[0mh\u001b[0m \u001b[0;32min\u001b[0m \u001b[0mrange\u001b[0m\u001b[0;34m(\u001b[0m\u001b[0;36m1\u001b[0m\u001b[0;34m,\u001b[0m\u001b[0;36m20\u001b[0m\u001b[0;34m)\u001b[0m \u001b[0;34m==\u001b[0m \u001b[0;36m0\u001b[0m\u001b[0;34m)\u001b[0m\u001b[0;34m\u001b[0m\u001b[0;34m\u001b[0m\u001b[0m\n\u001b[0m",
      "\u001b[0;31mTypeError\u001b[0m: 'bool' object is not iterable"
     ]
    }
   ],
   "source": [
    "# Contrainte 6: Parallélisation des tâches humaines et machines (délai de 20 minutes entre dégarage et départ)\n",
    "for _, row in sillons_depart_df.iterrows():\n",
    "    train = row['n°TRAIN']\n",
    "    departure_time = time_to_minutes(row['HDEP'])\n",
    "    # Permettre à n'importe quelle machine de travailler sur le wagon, pas seulement \"DEB\"\n",
    "    for h in range(1,20):\n",
    "        model.addConstr(x[('DEG', departure_time - h, train)]  == 0)"
   ]
  },
  {
   "cell_type": "code",
   "execution_count": null,
   "id": "7f0c3e0a",
   "metadata": {},
   "outputs": [],
   "source": [
    "# Optimisation\n",
    "model.setObjective(0, GRB.MINIMIZE)  # Pas d'optimisation spécifique ici pour ce jalon\n",
    "\n",
    "# Résolution du problème\n",
    "model.optimize()\n",
    "\n",
    "# Afficher les résultats\n",
    "if model.status == GRB.OPTIMAL:\n",
    "    for (m, h, t), var in x.items():\n",
    "        if var.x > 0.5:  # Si la machine travaille sur le wagon à cette heure\n",
    "            print(f\"Machine {m} travaille sur le train {t} à la minute {h}\")\n",
    "else:\n",
    "    print(\"Aucune solution optimale trouvée.\")"
   ]
  },
  {
   "cell_type": "code",
   "execution_count": null,
   "id": "ff7091c1",
   "metadata": {},
   "outputs": [],
   "source": [
    "#model.addConstr(row['HDEP']-row['HARR']>=(60+15+15+150+15+20)) #diff_dep_arr>=(60+15+15+150+15+20))"
   ]
  }
 ],
 "metadata": {
  "kernelspec": {
   "display_name": "Python 3",
   "language": "python",
   "name": "python3"
  },
  "language_info": {
   "codemirror_mode": {
    "name": "ipython",
    "version": 3
   },
   "file_extension": ".py",
   "mimetype": "text/x-python",
   "name": "python",
   "nbconvert_exporter": "python",
   "pygments_lexer": "ipython3",
   "version": "3.8.8"
  }
 },
 "nbformat": 4,
 "nbformat_minor": 5
}

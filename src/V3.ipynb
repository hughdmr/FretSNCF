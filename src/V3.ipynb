{
 "cells": [
  {
   "cell_type": "code",
   "execution_count": 2,
   "metadata": {},
   "outputs": [],
   "source": [
    "from gurobipy import Model, GRB\n",
    "import pandas as pd\n",
    "from datetime import datetime"
   ]
  },
  {
   "cell_type": "code",
   "execution_count": 21,
   "metadata": {},
   "outputs": [],
   "source": [
    "def time_to_minutes(datetime_str):\n",
    "    # Split the input string to get the date and time parts\n",
    "    date_part, time_part = datetime_str.split(',')\n",
    "    \n",
    "    # Convert the date part to a datetime object\n",
    "    date_obj = datetime.strptime(date_part.strip(), \"%d/%m/%y\")\n",
    "    \n",
    "    # Get the day of the week (0 = Monday, 6 = Sunday)\n",
    "    day_of_week = date_obj.weekday()\n",
    "    \n",
    "    # Convert the time part to a datetime object\n",
    "    time_obj = datetime.strptime(time_part.strip(), \"%H:%M\")\n",
    "    \n",
    "    # Calculate the total minutes\n",
    "    total_minutes = day_of_week * 24 * 60 + time_obj.hour * 60 + time_obj.minute\n",
    "    return total_minutes"
   ]
  },
  {
   "cell_type": "code",
   "execution_count": 3,
   "metadata": {},
   "outputs": [],
   "source": [
    "# Read data\n",
    "fichier = 'instance_WPY_realiste_jalon1.xlsx'\n",
    "chantiers_df = pd.read_excel(fichier, sheet_name='Chantiers')\n",
    "machines_df = pd.read_excel(fichier, sheet_name='Machines')\n",
    "sillons_arrivee_df = pd.read_excel(fichier, sheet_name='Sillons arrivee')\n",
    "sillons_depart_df = pd.read_excel(fichier, sheet_name='Sillons depart')\n",
    "correspondances_df = pd.read_excel(fichier, sheet_name='Correspondances')\n"
   ]
  },
  {
   "cell_type": "code",
   "execution_count": 19,
   "metadata": {},
   "outputs": [],
   "source": [
    "machines = machines_df['Machine'].tolist()\n",
    "trains_arr =[]\n",
    "trains_dep =[]\n",
    "for x in sillons_arrivee_df['n°TRAIN'].tolist():\n",
    "    if x not in trains_arr:\n",
    "        trains_arr.append(x)\n",
    "for x in sillons_depart_df['n°TRAIN'].tolist():\n",
    "    if x not in trains_dep:\n",
    "        trains_dep.append(x)\n",
    "trains = trains_arr + trains_dep\n",
    "minutes = list(range(0, 24*60*7))"
   ]
  },
  {
   "cell_type": "code",
   "execution_count": 5,
   "metadata": {},
   "outputs": [
    {
     "name": "stdout",
     "output_type": "stream",
     "text": [
      "Set parameter Username\n",
      "Set parameter LicenseID to value 2617662\n",
      "Academic license - for non-commercial use only - expires 2026-02-03\n"
     ]
    }
   ],
   "source": [
    "m = Model('optimisation')"
   ]
  },
  {
   "cell_type": "markdown",
   "metadata": {},
   "source": [
    "Variable Binaire $x_{m,h,t}$ m-machine, h-minute, t-train"
   ]
  },
  {
   "cell_type": "code",
   "execution_count": 20,
   "metadata": {},
   "outputs": [],
   "source": [
    "X = m.addVars(machines, minutes, trains, vtype=GRB.BINARY)"
   ]
  },
  {
   "cell_type": "code",
   "execution_count": null,
   "metadata": {},
   "outputs": [],
   "source": [
    "# Contrainte de disponibilité de la machine pendant les périodes d'indisponibilité\n",
    "for _, row in machines_df.iterrows():\n",
    "    task_type = row['Type de tache']\n",
    "    unavailable_times = row['Indisponibilites']\n",
    "    \n",
    "    if unavailable_times != 0:\n",
    "        periods = unavailable_times.strip('()').split(';')\n",
    "        for period in periods:\n",
    "            day_of_week, time_str = period.split(',')\n",
    "            start_time = time_to_minutes(day_of_week,time_str.split('-')[0])\n",
    "            end_time = time_to_minutes(day_of_week,time_str.split('-')[1])\n",
    "            \n",
    "            \n",
    "            for h in range(start_time, end_time):\n",
    "                m.addConstr(sum(x[(m, h, t)] for t in trains for m in machines) == 0)"
   ]
  },
  {
   "cell_type": "markdown",
   "metadata": {},
   "source": []
  },
  {
   "cell_type": "markdown",
   "metadata": {},
   "source": []
  }
 ],
 "metadata": {
  "kernelspec": {
   "display_name": "ox",
   "language": "python",
   "name": "python3"
  },
  "language_info": {
   "codemirror_mode": {
    "name": "ipython",
    "version": 3
   },
   "file_extension": ".py",
   "mimetype": "text/x-python",
   "name": "python",
   "nbconvert_exporter": "python",
   "pygments_lexer": "ipython3",
   "version": "3.13.1"
  }
 },
 "nbformat": 4,
 "nbformat_minor": 2
}

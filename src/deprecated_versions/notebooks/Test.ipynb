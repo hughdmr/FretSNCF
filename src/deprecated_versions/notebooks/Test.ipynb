{
 "cells": [
  {
   "cell_type": "code",
   "execution_count": 1,
   "id": "9f7447f4-2b99-4636-99ce-14d0c04bf791",
   "metadata": {},
   "outputs": [],
   "source": [
    "import numpy as np\n",
    "from gurobipy import *\n",
    "import pandas as pd"
   ]
  },
  {
   "cell_type": "code",
<<<<<<< HEAD
   "execution_count": 3,
   "id": "7a7567bc",
   "metadata": {},
   "outputs": [
    {
     "name": "stdout",
     "output_type": "stream",
     "text": [
      "[2, 3, 4, 5, 6, 7, 8, 9]\n"
     ]
    }
   ],
   "source": [
    "possible_days = list(range(2, 8+2))\n",
    "print(possible_days)"
   ]
  },
  {
   "cell_type": "code",
=======
>>>>>>> fbbcbff (main)
   "execution_count": 2,
   "id": "962875f1-1477-41ff-a8d8-e37a270ed6a5",
   "metadata": {},
   "outputs": [
    {
     "name": "stdout",
     "output_type": "stream",
     "text": [
      "                 Jour arrivee n°Train arrivee Jour depart n°Train depart\n",
      "Id wagon                                                                \n",
      "1         2023-05-02 00:00:00         sillon1  02/05/2023        sillon5\n",
      "2         2023-05-02 00:00:00         sillon1  02/05/2023        sillon6\n",
      "3                  02/05/2023         sillon2  02/05/2023        sillon4\n",
      "4                  02/05/2023         sillon2  02/05/2023        sillon5\n",
      "5                  02/05/2023         sillon2  02/05/2023        sillon6\n",
      "6                  02/05/2023         sillon3  02/05/2023        sillon4\n",
      "7                  02/05/2023         sillon3  02/05/2023        sillon6\n"
     ]
    }
   ],
   "source": [
    "file = \"mini_instance.xlsx\"\n",
    "chantiers = pd.read_excel(file, sheet_name = \"Chantiers\", index_col = \"Chantier\")\n",
    "machines = pd.read_excel(file, sheet_name=\"Machines\", index_col=\"Machine\")\n",
    "sillons_arrivee = pd.read_excel(file, sheet_name=\"Sillons arrivee\", index_col=\"n°TRAIN\")\n",
    "sillons_depart = pd.read_excel(file, sheet_name=\"Sillons depart\", index_col=\"n°TRAIN\")\n",
    "correspondances = pd.read_excel(file, sheet_name=\"Correspondances\", index_col=\"Id wagon\")\n",
    "taches_humaines = pd.read_excel(file, sheet_name=\"Taches humaines\", index_col=\"Type de train\")\n",
    "roulements_agents = pd.read_excel(file, sheet_name=\"Roulements agents\", index_col=\"Roulement\")\n",
    "\n",
    "print(correspondances)"
   ]
  },
  {
   "cell_type": "code",
   "execution_count": 6,
   "id": "b5509698-1635-4d2a-853b-33ddad92dfd3",
   "metadata": {},
   "outputs": [],
   "source": [
    "no_mach = machines.shape[0]\n",
    "no_wag = correspondances.shape[0]\n",
    "no_mins = 24*12"
   ]
  },
  {
   "cell_type": "code",
   "execution_count": 36,
   "id": "636a924d-677a-4bd1-a692-8306acfbd131",
   "metadata": {},
   "outputs": [
    {
     "name": "stdout",
     "output_type": "stream",
     "text": [
      "[0 '(6,13:00-13:00);(7, 13:00-13:00)' 0]\n"
     ]
    }
   ],
   "source": [
    "temps_machines = machines['Duree '].to_numpy() #temps pour chaque machine [0] - DEB,[1] - FOR ,[2] - DEG\n",
    "indispo_machines = machines['Indisponibilites'].to_numpy() #temps pour chaque machine [0] - DEB,[1] - FOR ,[2] - DEG\n",
    "print(indispo_machines)"
   ]
  },
  {
   "cell_type": "code",
   "execution_count": 40,
   "id": "0a2a37fb",
   "metadata": {},
   "outputs": [
    {
     "name": "stdout",
     "output_type": "stream",
     "text": [
      "[1 1 1 1 1 1 1 1 1 1 1 1 1 1 1 1 1 1 1 1]\n"
     ]
    }
   ],
   "source": [
    "# Initialisation du tableau 3D (jours x minutes x machines) rempli de 0 (ouvert)\n",
    "planning = np.ones((7, 1440, len(indispo_machines)), dtype=int)\n",
    "\n",
    "# Fonction pour traiter les fermetures des machines\n",
    "def marquer_fermetures(planning, indispo_machines):\n",
    "    for index_machine, data in enumerate(indispo_machines):\n",
    "        if isinstance(data, str):  # Si c'est une chaîne de texte avec les périodes de fermeture\n",
    "            entrees = data.split(\";\")  # Séparer les différentes périodes de fermeture\n",
    "\n",
    "            for entree in entrees:\n",
    "                entree = entree.strip(\"()\")  # Supprimer les parenthèses\n",
    "                try:\n",
    "                    jour, plage_horaire = entree.split(\",\")  # Séparer le jour et la plage horaire\n",
    "                    jour = int(jour) - 1  # Convertir en index basé sur 0 (jour 6 devient index 5)\n",
    "\n",
    "                    if \"-\" in plage_horaire:\n",
    "                        heure_debut, heure_fin = plage_horaire.split(\"-\")  # Séparer les horaires\n",
    "                        \n",
    "                        # Convertir les heures en minutes\n",
    "                        debut_min = int(heure_debut[:2]) * 60 + int(heure_debut[3:])  # HH*60 + MM\n",
    "                        fin_min = int(heure_fin[:2]) * 60 + int(heure_fin[3:])  # HH*60 + MM\n",
    "\n",
    "                        # Marquer la période comme fermée (1) pour la machine concernée\n",
    "                        planning[jour, debut_min:fin_min, index_machine] = 0\n",
    "                    else:\n",
    "                        print(f\"Invalid time range format: {plage_horaire}\")\n",
    "                except ValueError:\n",
    "                    continue\n",
    "        else:\n",
    "            continue\n",
    "\n",
    "# Appliquer la fonction pour marquer les fermetures dans le planning\n",
    "marquer_fermetures(planning, indispo_machines)\n",
    "\n",
    "# Vérification des résultats : afficher les fermetures pour la machine 1 (index 1)\n",
    "# Exemple : vérifier la fermeture de la machine 1 samedi (jour 5) de 13:00 à 13:30\n",
    "print(planning[5, 780:800, 1]) \n"
   ]
  },
  {
   "cell_type": "code",
   "execution_count": null,
   "id": "120bcc79-dffc-40ff-96c0-63770774d784",
   "metadata": {},
   "outputs": [
    {
     "name": "stdout",
     "output_type": "stream",
     "text": [
      "Set parameter Username\n",
      "Set parameter LicenseID to value 2617662\n",
      "Academic license - for non-commercial use only - expires 2026-02-03\n"
     ]
    }
   ],
   "source": [
    "m = Model(\"Optimisation des machines\")\n",
    "\n",
    "# Variables de décision\n",
    "X = m.addMVar(shape = (no_mach,no_wag,no_mins),vtype = GRB.BINARY,name = \"on/off\")\n",
    "S = m.addMVar(shape = 3,vtype = GRB.INTEGER,name = \"heure de debut\")"
   ]
  },
  {
   "cell_type": "code",
   "execution_count": null,
   "id": "a3b237a7-0edd-4675-894c-1d29bf0f761f",
   "metadata": {},
   "outputs": [],
   "source": [
    "# Contraintes\n",
    "# machine utilisée qu'une fois chaque minute\n",
    "m.addConstrs((X.sum(0)[i] == 1 for i in range(no_mach)),name = \"une_wagon_par_machine\")\n",
    "#\n",
    "m.add\n",
    " "
   ]
  },
  {
   "cell_type": "code",
   "execution_count": null,
   "id": "9a24a47f",
   "metadata": {},
   "outputs": [],
   "source": []
  }
 ],
 "metadata": {
  "kernelspec": {
   "display_name": "ox",
   "language": "python",
   "name": "python3"
  },
  "language_info": {
   "codemirror_mode": {
    "name": "ipython",
    "version": 3
   },
   "file_extension": ".py",
   "mimetype": "text/x-python",
   "name": "python",
   "nbconvert_exporter": "python",
   "pygments_lexer": "ipython3",
   "version": "3.13.1"
  }
 },
 "nbformat": 4,
 "nbformat_minor": 5
}

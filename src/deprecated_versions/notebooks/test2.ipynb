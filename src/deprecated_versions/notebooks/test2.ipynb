{
 "cells": [
  {
   "cell_type": "code",
   "execution_count": null,
   "metadata": {},
   "outputs": [],
   "source": [
    "from gurobipy import Model, GRB, quicksum\n",
    "\n",
    "# Paramètres (exemple simplifié)\n",
    "d_trains = {\"T1\": 480, \"T2\": 510}  # Arrivée des trains en minutes depuis minuit (ex: 08:00 -> 480 min)\n",
    "d_durations = {\"DEB\": 30, \"FORM\": 40, \"DEG\": 20}  # Durées des tâches (en min)\n",
    "d_machines = {\"DEB\": \"M1\", \"FORM\": \"M2\", \"DEG\": \"M3\"}  # Association machine-tâche\n",
    "d_machine_unavailability = {\"M2\": [(780, 1560)]}  # Indispo M2 samedi 13h- lundi 13h\n",
    "d_min_gap = {\"ARR_TO_DEB\": 60, \"DEB_TO_FORM\": 0, \"FORM_TO_DEG\": 0, \"DEG_TO_DEP\": 0}\n",
    "\n",
    "# Création du modèle\n",
    "m = Model(\"Optimisation_Triage\")\n",
    "\n"
   ]
  },
  {
   "cell_type": "code",
   "execution_count": null,
   "metadata": {},
   "outputs": [
    {
     "ename": "TypeError",
     "evalue": "'<' not supported between instances of 'Var' and 'int'",
     "output_type": "error",
     "traceback": [
      "\u001b[1;31m---------------------------------------------------------------------------\u001b[0m",
      "\u001b[1;31mTypeError\u001b[0m                                 Traceback (most recent call last)",
      "\u001b[1;32m~\\AppData\\Local\\Temp\\ipykernel_57260\\2654103174.py\u001b[0m in \u001b[0;36m<cell line: 11>\u001b[1;34m()\u001b[0m\n\u001b[0;32m     13\u001b[0m         \u001b[1;32mif\u001b[0m \u001b[0mmachine\u001b[0m \u001b[1;32min\u001b[0m \u001b[0md_machine_unavailability\u001b[0m\u001b[1;33m:\u001b[0m\u001b[1;33m\u001b[0m\u001b[1;33m\u001b[0m\u001b[0m\n\u001b[0;32m     14\u001b[0m             \u001b[1;32mfor\u001b[0m \u001b[1;33m(\u001b[0m\u001b[0mstart\u001b[0m\u001b[1;33m,\u001b[0m \u001b[0mend\u001b[0m\u001b[1;33m)\u001b[0m \u001b[1;32min\u001b[0m \u001b[0md_machine_unavailability\u001b[0m\u001b[1;33m[\u001b[0m\u001b[0mmachine\u001b[0m\u001b[1;33m]\u001b[0m\u001b[1;33m:\u001b[0m\u001b[1;33m\u001b[0m\u001b[1;33m\u001b[0m\u001b[0m\n\u001b[1;32m---> 15\u001b[1;33m                 \u001b[0mm\u001b[0m\u001b[1;33m.\u001b[0m\u001b[0maddConstr\u001b[0m\u001b[1;33m(\u001b[0m\u001b[1;33m(\u001b[0m\u001b[0ms\u001b[0m\u001b[1;33m[\u001b[0m\u001b[0mt\u001b[0m\u001b[1;33m,\u001b[0m \u001b[0mtask\u001b[0m\u001b[1;33m]\u001b[0m \u001b[1;33m<\u001b[0m \u001b[0mstart\u001b[0m\u001b[1;33m)\u001b[0m \u001b[1;33m|\u001b[0m \u001b[1;33m(\u001b[0m\u001b[0ms\u001b[0m\u001b[1;33m[\u001b[0m\u001b[0mt\u001b[0m\u001b[1;33m,\u001b[0m \u001b[0mtask\u001b[0m\u001b[1;33m]\u001b[0m \u001b[1;33m>\u001b[0m \u001b[0mend\u001b[0m\u001b[1;33m)\u001b[0m\u001b[1;33m)\u001b[0m  \u001b[1;31m# Pas pendant l'indispo\u001b[0m\u001b[1;33m\u001b[0m\u001b[1;33m\u001b[0m\u001b[0m\n\u001b[0m\u001b[0;32m     16\u001b[0m \u001b[1;33m\u001b[0m\u001b[0m\n\u001b[0;32m     17\u001b[0m \u001b[1;31m# Objectif : minimiser l'étalement des tâches\u001b[0m\u001b[1;33m\u001b[0m\u001b[1;33m\u001b[0m\u001b[1;33m\u001b[0m\u001b[0m\n",
      "\u001b[1;31mTypeError\u001b[0m: '<' not supported between instances of 'Var' and 'int'"
     ]
    }
   ],
   "source": [
    "# Variables de décision : heures de début des tâches machines\n",
    "s = {(t, task): m.addVar(vtype=GRB.INTEGER, name=f\"s_{t}_{task}\") for t in d_trains for task in d_durations}\n",
    "\n",
    "# Contraintes : respect des précédences\n",
    "for t in d_trains:\n",
    "    m.addConstr(s[t, \"DEB\"] >= d_trains[t] + d_min_gap[\"ARR_TO_DEB\"])  # Débranchement après arrivée\n",
    "    m.addConstr(s[t, \"FORM\"] >= s[t, \"DEB\"] + d_durations[\"DEB\"] + d_min_gap[\"DEB_TO_FORM\"])  # Formation après débranchement\n",
    "    m.addConstr(s[t, \"DEG\"] >= s[t, \"FORM\"] + d_durations[\"FORM\"] + d_min_gap[\"FORM_TO_DEG\"])  # Dégarage après formation\n",
    "\n",
    "# Contraintes : indisponibilités des machines\n",
    "for t in d_trains:\n",
    "    for task, machine in d_machines.items():\n",
    "        if machine in d_machine_unavailability:\n",
    "            for (start, end) in d_machine_unavailability[machine]:\n",
    "                m.addConstr((s[t, task].X < start) | (s[t, task].X > end))  # Pas pendant l'indispo\n",
    "\n",
    "# Objectif : minimiser l'étalement des tâches\n",
    "m.setObjective(quicksum(s[t, \"DEG\"] for t in d_trains), GRB.MINIMIZE)\n",
    "\n",
    "# Résolution\n",
    "m.optimize()\n",
    "\n",
    "# Affichage des résultats\n",
    "if m.status == GRB.OPTIMAL:\n",
    "    for t in d_trains:\n",
    "        for task in d_durations:\n",
    "            print(f\"Train {t}, Tâche {task} : {int(s[t, task].x)} min\")"
   ]
  }
 ],
 "metadata": {
  "kernelspec": {
   "display_name": "base",
   "language": "python",
   "name": "python3"
  },
  "language_info": {
   "codemirror_mode": {
    "name": "ipython",
    "version": 3
   },
   "file_extension": ".py",
   "mimetype": "text/x-python",
   "name": "python",
   "nbconvert_exporter": "python",
   "pygments_lexer": "ipython3",
   "version": "3.8.16"
  }
 },
 "nbformat": 4,
 "nbformat_minor": 2
}

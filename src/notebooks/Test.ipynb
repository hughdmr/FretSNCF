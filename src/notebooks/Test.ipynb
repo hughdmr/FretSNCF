{
 "cells": [
  {
   "cell_type": "code",
   "execution_count": 1,
   "id": "9f7447f4-2b99-4636-99ce-14d0c04bf791",
   "metadata": {},
   "outputs": [],
   "source": [
    "import numpy as np\n",
    "from gurobipy import *\n",
    "import pandas as pd"
   ]
  },
  {
   "cell_type": "code",
   "execution_count": 3,
   "id": "7a7567bc",
   "metadata": {},
   "outputs": [
    {
     "name": "stdout",
     "output_type": "stream",
     "text": [
      "[2, 3, 4, 5, 6, 7, 8, 9]\n"
     ]
    }
   ],
   "source": [
    "possible_days = list(range(2, 8+2))\n",
    "print(possible_days)"
   ]
  },
  {
   "cell_type": "code",
   "execution_count": 2,
   "id": "962875f1-1477-41ff-a8d8-e37a270ed6a5",
   "metadata": {},
   "outputs": [
    {
     "ename": "FileNotFoundError",
     "evalue": "[Errno 2] No such file or directory: 'mini_instance.xlsx'",
     "output_type": "error",
     "traceback": [
      "\u001b[1;31m---------------------------------------------------------------------------\u001b[0m",
      "\u001b[1;31mFileNotFoundError\u001b[0m                         Traceback (most recent call last)",
      "Cell \u001b[1;32mIn[2], line 2\u001b[0m\n\u001b[0;32m      1\u001b[0m file \u001b[38;5;241m=\u001b[39m \u001b[38;5;124m\"\u001b[39m\u001b[38;5;124mmini_instance.xlsx\u001b[39m\u001b[38;5;124m\"\u001b[39m\n\u001b[1;32m----> 2\u001b[0m chantiers \u001b[38;5;241m=\u001b[39m pd\u001b[38;5;241m.\u001b[39mread_excel(file, sheet_name \u001b[38;5;241m=\u001b[39m \u001b[38;5;124m\"\u001b[39m\u001b[38;5;124mChantiers\u001b[39m\u001b[38;5;124m\"\u001b[39m, index_col \u001b[38;5;241m=\u001b[39m \u001b[38;5;124m\"\u001b[39m\u001b[38;5;124mChantier\u001b[39m\u001b[38;5;124m\"\u001b[39m)\n\u001b[0;32m      3\u001b[0m machines \u001b[38;5;241m=\u001b[39m pd\u001b[38;5;241m.\u001b[39mread_excel(file, sheet_name\u001b[38;5;241m=\u001b[39m\u001b[38;5;124m\"\u001b[39m\u001b[38;5;124mMachines\u001b[39m\u001b[38;5;124m\"\u001b[39m, index_col\u001b[38;5;241m=\u001b[39m\u001b[38;5;124m\"\u001b[39m\u001b[38;5;124mMachine\u001b[39m\u001b[38;5;124m\"\u001b[39m)\n\u001b[0;32m      4\u001b[0m sillons_arrivee \u001b[38;5;241m=\u001b[39m pd\u001b[38;5;241m.\u001b[39mread_excel(file, sheet_name\u001b[38;5;241m=\u001b[39m\u001b[38;5;124m\"\u001b[39m\u001b[38;5;124mSillons arrivee\u001b[39m\u001b[38;5;124m\"\u001b[39m, index_col\u001b[38;5;241m=\u001b[39m\u001b[38;5;124m\"\u001b[39m\u001b[38;5;124mn°TRAIN\u001b[39m\u001b[38;5;124m\"\u001b[39m)\n",
      "File \u001b[1;32mc:\\Users\\angus\\miniconda3\\envs\\ox\\Lib\\site-packages\\pandas\\io\\excel\\_base.py:495\u001b[0m, in \u001b[0;36mread_excel\u001b[1;34m(io, sheet_name, header, names, index_col, usecols, dtype, engine, converters, true_values, false_values, skiprows, nrows, na_values, keep_default_na, na_filter, verbose, parse_dates, date_parser, date_format, thousands, decimal, comment, skipfooter, storage_options, dtype_backend, engine_kwargs)\u001b[0m\n\u001b[0;32m    493\u001b[0m \u001b[38;5;28;01mif\u001b[39;00m \u001b[38;5;129;01mnot\u001b[39;00m \u001b[38;5;28misinstance\u001b[39m(io, ExcelFile):\n\u001b[0;32m    494\u001b[0m     should_close \u001b[38;5;241m=\u001b[39m \u001b[38;5;28;01mTrue\u001b[39;00m\n\u001b[1;32m--> 495\u001b[0m     io \u001b[38;5;241m=\u001b[39m ExcelFile(\n\u001b[0;32m    496\u001b[0m         io,\n\u001b[0;32m    497\u001b[0m         storage_options\u001b[38;5;241m=\u001b[39mstorage_options,\n\u001b[0;32m    498\u001b[0m         engine\u001b[38;5;241m=\u001b[39mengine,\n\u001b[0;32m    499\u001b[0m         engine_kwargs\u001b[38;5;241m=\u001b[39mengine_kwargs,\n\u001b[0;32m    500\u001b[0m     )\n\u001b[0;32m    501\u001b[0m \u001b[38;5;28;01melif\u001b[39;00m engine \u001b[38;5;129;01mand\u001b[39;00m engine \u001b[38;5;241m!=\u001b[39m io\u001b[38;5;241m.\u001b[39mengine:\n\u001b[0;32m    502\u001b[0m     \u001b[38;5;28;01mraise\u001b[39;00m \u001b[38;5;167;01mValueError\u001b[39;00m(\n\u001b[0;32m    503\u001b[0m         \u001b[38;5;124m\"\u001b[39m\u001b[38;5;124mEngine should not be specified when passing \u001b[39m\u001b[38;5;124m\"\u001b[39m\n\u001b[0;32m    504\u001b[0m         \u001b[38;5;124m\"\u001b[39m\u001b[38;5;124man ExcelFile - ExcelFile already has the engine set\u001b[39m\u001b[38;5;124m\"\u001b[39m\n\u001b[0;32m    505\u001b[0m     )\n",
      "File \u001b[1;32mc:\\Users\\angus\\miniconda3\\envs\\ox\\Lib\\site-packages\\pandas\\io\\excel\\_base.py:1550\u001b[0m, in \u001b[0;36mExcelFile.__init__\u001b[1;34m(self, path_or_buffer, engine, storage_options, engine_kwargs)\u001b[0m\n\u001b[0;32m   1548\u001b[0m     ext \u001b[38;5;241m=\u001b[39m \u001b[38;5;124m\"\u001b[39m\u001b[38;5;124mxls\u001b[39m\u001b[38;5;124m\"\u001b[39m\n\u001b[0;32m   1549\u001b[0m \u001b[38;5;28;01melse\u001b[39;00m:\n\u001b[1;32m-> 1550\u001b[0m     ext \u001b[38;5;241m=\u001b[39m inspect_excel_format(\n\u001b[0;32m   1551\u001b[0m         content_or_path\u001b[38;5;241m=\u001b[39mpath_or_buffer, storage_options\u001b[38;5;241m=\u001b[39mstorage_options\n\u001b[0;32m   1552\u001b[0m     )\n\u001b[0;32m   1553\u001b[0m     \u001b[38;5;28;01mif\u001b[39;00m ext \u001b[38;5;129;01mis\u001b[39;00m \u001b[38;5;28;01mNone\u001b[39;00m:\n\u001b[0;32m   1554\u001b[0m         \u001b[38;5;28;01mraise\u001b[39;00m \u001b[38;5;167;01mValueError\u001b[39;00m(\n\u001b[0;32m   1555\u001b[0m             \u001b[38;5;124m\"\u001b[39m\u001b[38;5;124mExcel file format cannot be determined, you must specify \u001b[39m\u001b[38;5;124m\"\u001b[39m\n\u001b[0;32m   1556\u001b[0m             \u001b[38;5;124m\"\u001b[39m\u001b[38;5;124man engine manually.\u001b[39m\u001b[38;5;124m\"\u001b[39m\n\u001b[0;32m   1557\u001b[0m         )\n",
      "File \u001b[1;32mc:\\Users\\angus\\miniconda3\\envs\\ox\\Lib\\site-packages\\pandas\\io\\excel\\_base.py:1402\u001b[0m, in \u001b[0;36minspect_excel_format\u001b[1;34m(content_or_path, storage_options)\u001b[0m\n\u001b[0;32m   1399\u001b[0m \u001b[38;5;28;01mif\u001b[39;00m \u001b[38;5;28misinstance\u001b[39m(content_or_path, \u001b[38;5;28mbytes\u001b[39m):\n\u001b[0;32m   1400\u001b[0m     content_or_path \u001b[38;5;241m=\u001b[39m BytesIO(content_or_path)\n\u001b[1;32m-> 1402\u001b[0m \u001b[38;5;28;01mwith\u001b[39;00m get_handle(\n\u001b[0;32m   1403\u001b[0m     content_or_path, \u001b[38;5;124m\"\u001b[39m\u001b[38;5;124mrb\u001b[39m\u001b[38;5;124m\"\u001b[39m, storage_options\u001b[38;5;241m=\u001b[39mstorage_options, is_text\u001b[38;5;241m=\u001b[39m\u001b[38;5;28;01mFalse\u001b[39;00m\n\u001b[0;32m   1404\u001b[0m ) \u001b[38;5;28;01mas\u001b[39;00m handle:\n\u001b[0;32m   1405\u001b[0m     stream \u001b[38;5;241m=\u001b[39m handle\u001b[38;5;241m.\u001b[39mhandle\n\u001b[0;32m   1406\u001b[0m     stream\u001b[38;5;241m.\u001b[39mseek(\u001b[38;5;241m0\u001b[39m)\n",
      "File \u001b[1;32mc:\\Users\\angus\\miniconda3\\envs\\ox\\Lib\\site-packages\\pandas\\io\\common.py:882\u001b[0m, in \u001b[0;36mget_handle\u001b[1;34m(path_or_buf, mode, encoding, compression, memory_map, is_text, errors, storage_options)\u001b[0m\n\u001b[0;32m    873\u001b[0m         handle \u001b[38;5;241m=\u001b[39m \u001b[38;5;28mopen\u001b[39m(\n\u001b[0;32m    874\u001b[0m             handle,\n\u001b[0;32m    875\u001b[0m             ioargs\u001b[38;5;241m.\u001b[39mmode,\n\u001b[1;32m   (...)\u001b[0m\n\u001b[0;32m    878\u001b[0m             newline\u001b[38;5;241m=\u001b[39m\u001b[38;5;124m\"\u001b[39m\u001b[38;5;124m\"\u001b[39m,\n\u001b[0;32m    879\u001b[0m         )\n\u001b[0;32m    880\u001b[0m     \u001b[38;5;28;01melse\u001b[39;00m:\n\u001b[0;32m    881\u001b[0m         \u001b[38;5;66;03m# Binary mode\u001b[39;00m\n\u001b[1;32m--> 882\u001b[0m         handle \u001b[38;5;241m=\u001b[39m \u001b[38;5;28mopen\u001b[39m(handle, ioargs\u001b[38;5;241m.\u001b[39mmode)\n\u001b[0;32m    883\u001b[0m     handles\u001b[38;5;241m.\u001b[39mappend(handle)\n\u001b[0;32m    885\u001b[0m \u001b[38;5;66;03m# Convert BytesIO or file objects passed with an encoding\u001b[39;00m\n",
      "\u001b[1;31mFileNotFoundError\u001b[0m: [Errno 2] No such file or directory: 'mini_instance.xlsx'"
     ]
    }
   ],
   "source": [
    "file = \"mini_instance.xlsx\"\n",
    "chantiers = pd.read_excel(file, sheet_name = \"Chantiers\", index_col = \"Chantier\")\n",
    "machines = pd.read_excel(file, sheet_name=\"Machines\", index_col=\"Machine\")\n",
    "sillons_arrivee = pd.read_excel(file, sheet_name=\"Sillons arrivee\", index_col=\"n°TRAIN\")\n",
    "sillons_depart = pd.read_excel(file, sheet_name=\"Sillons depart\", index_col=\"n°TRAIN\")\n",
    "correspondances = pd.read_excel(file, sheet_name=\"Correspondances\", index_col=\"Id wagon\")\n",
    "taches_humaines = pd.read_excel(file, sheet_name=\"Taches humaines\", index_col=\"Type de train\")\n",
    "roulements_agents = pd.read_excel(file, sheet_name=\"Roulements agents\", index_col=\"Roulement\")\n",
    "\n",
    "print(correspondances)"
   ]
  },
  {
   "cell_type": "code",
   "execution_count": 6,
   "id": "b5509698-1635-4d2a-853b-33ddad92dfd3",
   "metadata": {},
   "outputs": [],
   "source": [
    "no_mach = machines.shape[0]\n",
    "no_wag = correspondances.shape[0]\n",
    "no_mins = 24*12"
   ]
  },
  {
   "cell_type": "code",
   "execution_count": 36,
   "id": "636a924d-677a-4bd1-a692-8306acfbd131",
   "metadata": {},
   "outputs": [
    {
     "name": "stdout",
     "output_type": "stream",
     "text": [
      "[0 '(6,13:00-13:00);(7, 13:00-13:00)' 0]\n"
     ]
    }
   ],
   "source": [
    "temps_machines = machines['Duree '].to_numpy() #temps pour chaque machine [0] - DEB,[1] - FOR ,[2] - DEG\n",
    "indispo_machines = machines['Indisponibilites'].to_numpy() #temps pour chaque machine [0] - DEB,[1] - FOR ,[2] - DEG\n",
    "print(indispo_machines)"
   ]
  },
  {
   "cell_type": "code",
   "execution_count": 40,
   "id": "0a2a37fb",
   "metadata": {},
   "outputs": [
    {
     "name": "stdout",
     "output_type": "stream",
     "text": [
      "[1 1 1 1 1 1 1 1 1 1 1 1 1 1 1 1 1 1 1 1]\n"
     ]
    }
   ],
   "source": [
    "# Initialisation du tableau 3D (jours x minutes x machines) rempli de 0 (ouvert)\n",
    "planning = np.ones((7, 1440, len(indispo_machines)), dtype=int)\n",
    "\n",
    "# Fonction pour traiter les fermetures des machines\n",
    "def marquer_fermetures(planning, indispo_machines):\n",
    "    for index_machine, data in enumerate(indispo_machines):\n",
    "        if isinstance(data, str):  # Si c'est une chaîne de texte avec les périodes de fermeture\n",
    "            entrees = data.split(\";\")  # Séparer les différentes périodes de fermeture\n",
    "\n",
    "            for entree in entrees:\n",
    "                entree = entree.strip(\"()\")  # Supprimer les parenthèses\n",
    "                try:\n",
    "                    jour, plage_horaire = entree.split(\",\")  # Séparer le jour et la plage horaire\n",
    "                    jour = int(jour) - 1  # Convertir en index basé sur 0 (jour 6 devient index 5)\n",
    "\n",
    "                    if \"-\" in plage_horaire:\n",
    "                        heure_debut, heure_fin = plage_horaire.split(\"-\")  # Séparer les horaires\n",
    "                        \n",
    "                        # Convertir les heures en minutes\n",
    "                        debut_min = int(heure_debut[:2]) * 60 + int(heure_debut[3:])  # HH*60 + MM\n",
    "                        fin_min = int(heure_fin[:2]) * 60 + int(heure_fin[3:])  # HH*60 + MM\n",
    "\n",
    "                        # Marquer la période comme fermée (1) pour la machine concernée\n",
    "                        planning[jour, debut_min:fin_min, index_machine] = 0\n",
    "                    else:\n",
    "                        print(f\"Invalid time range format: {plage_horaire}\")\n",
    "                except ValueError:\n",
    "                    continue\n",
    "        else:\n",
    "            continue\n",
    "\n",
    "# Appliquer la fonction pour marquer les fermetures dans le planning\n",
    "marquer_fermetures(planning, indispo_machines)\n",
    "\n",
    "# Vérification des résultats : afficher les fermetures pour la machine 1 (index 1)\n",
    "# Exemple : vérifier la fermeture de la machine 1 samedi (jour 5) de 13:00 à 13:30\n",
    "print(planning[5, 780:800, 1]) \n"
   ]
  },
  {
   "cell_type": "code",
   "execution_count": null,
   "id": "120bcc79-dffc-40ff-96c0-63770774d784",
   "metadata": {},
   "outputs": [
    {
     "name": "stdout",
     "output_type": "stream",
     "text": [
      "Set parameter Username\n",
      "Set parameter LicenseID to value 2617662\n",
      "Academic license - for non-commercial use only - expires 2026-02-03\n"
     ]
    }
   ],
   "source": [
    "m = Model(\"Optimisation des machines\")\n",
    "\n",
    "# Variables de décision\n",
    "X = m.addMVar(shape = (no_mach,no_wag,no_mins),vtype = GRB.BINARY,name = \"on/off\")\n",
    "S = m.addMVar(shape = 3,vtype = GRB.INTEGER,name = \"heure de debut\")"
   ]
  },
  {
   "cell_type": "code",
   "execution_count": null,
   "id": "a3b237a7-0edd-4675-894c-1d29bf0f761f",
   "metadata": {},
   "outputs": [],
   "source": [
    "# Contraintes\n",
    "# machine utilisée qu'une fois chaque minute\n",
    "m.addConstrs((X.sum(0)[i] == 1 for i in range(no_mach)),name = \"une_wagon_par_machine\")\n",
    "#\n",
    "m.add\n",
    " "
   ]
  },
  {
   "cell_type": "code",
   "execution_count": 9,
   "id": "b4c8a846",
   "metadata": {},
   "outputs": [],
   "source": [
    "from datetime import datetime, timedelta, time"
   ]
  },
  {
   "cell_type": "code",
   "execution_count": 10,
   "id": "9a24a47f",
   "metadata": {},
   "outputs": [],
   "source": [
    "def time_to_minutes_2(date_str, time_str, jour1,day_1):\n",
    "    \"\"\"Convert the time to minutes\"\"\"\n",
    "    if type(date_str) == str:\n",
    "        date_obj = datetime.strptime(date_str.strip(), \"%d/%m/%Y\")\n",
    "    elif type(date_str) == datetime or type(date_str) == pd._libs.tslibs.timestamps.Timestamp:\n",
    "        date_obj = date_str\n",
    "    \n",
    "    # Get the day of the week (0 = Monday, 6 = Sunday...jusqu'à finir le total des jours)\n",
    "    day_diff = date_obj- jour1\n",
    "    number_day = day_diff.days-day_1\n",
    "    \n",
    "    if type(time_str) == str:\n",
    "        time_obj = datetime.strptime(time_str.strip(), \"%H:%M\")\n",
    "    elif type(time_str) == time:\n",
    "        time_obj = time_str\n",
    "    \n",
    "    total_minutes = number_day * 24 * 60 + time_obj.hour * 60 + time_obj.minute\n",
    "    return total_minutes"
   ]
  },
  {
   "cell_type": "code",
   "execution_count": 20,
   "id": "a4bb412b",
   "metadata": {},
   "outputs": [
    {
     "data": {
      "text/plain": [
       "72.0"
      ]
     },
     "execution_count": 20,
     "metadata": {},
     "output_type": "execute_result"
    }
   ],
   "source": [
    "j1 = datetime.strptime(\"08/08/2022\", \"%d/%m/%Y\")\n",
    "time_to_minutes_2(\"08/08/2022\", \"18:00\", j1, 0)/15"
   ]
  },
  {
   "cell_type": "code",
   "execution_count": null,
   "id": "a96d2a29",
   "metadata": {},
   "outputs": [],
   "source": []
  }
 ],
 "metadata": {
  "kernelspec": {
   "display_name": "ox",
   "language": "python",
   "name": "python3"
  },
  "language_info": {
   "codemirror_mode": {
    "name": "ipython",
    "version": 3
   },
   "file_extension": ".py",
   "mimetype": "text/x-python",
   "name": "python",
   "nbconvert_exporter": "python",
   "pygments_lexer": "ipython3",
   "version": "3.13.1"
  }
 },
 "nbformat": 4,
 "nbformat_minor": 5
}
